{
 "cells": [
  {
   "cell_type": "code",
   "execution_count": null,
   "id": "a15a265c-19cb-4098-84a0-cffa592a4311",
   "metadata": {},
   "outputs": [],
   "source": [
    "# 3. Acesse um elemento específico de uma lista utilizando índice\n",
    "my_list = [10, 20, 30, 40, 50]\n",
    "print(my_list[2])"
   ]
  },
  {
   "cell_type": "code",
   "execution_count": null,
   "id": "82c89291-83d6-4bc4-83f7-77f931a3703a",
   "metadata": {},
   "outputs": [],
   "source": [
    "# 4. Crie uma tupla com 3 elementos e imprima\n",
    "my_tuple = (1, 2, 3)\n",
    "print(my_tuple)"
   ]
  },
  {
   "cell_type": "code",
   "execution_count": null,
   "id": "f004af53-1e3a-4c05-a1ce-7bbef8d0f077",
   "metadata": {},
   "outputs": [],
   "source": [
    "# 5. Modifique um item de uma lista utilizando índice\n",
    "my_list = [1, 2, 3, 4, 5]\n",
    "my_list[2] = 10\n",
    "print(my_list)"
   ]
  },
  {
   "cell_type": "code",
   "execution_count": null,
   "id": "3a825650-dfeb-457f-be62-f74822321c8f",
   "metadata": {},
   "outputs": [],
   "source": [
    "aluno = [\"warlison\", \"junior\", \"andreza\"]\n",
    "nota = [7.0, 9.0, 8.0]\n",
    "idade = [10,20,30]\n",
    "\n",
    "for a,n,i in zip(aluno,nota,idade):\n",
    "    print(f\"{a}:{n} com idade {i}\")\n",
    "print(list(zip(aluno,nota,idade)))\n",
    "for tupla in zip(aluno,nota,idade):\n",
    "    print(f\"{tupla[0]}:{tupla[1]} com idade {tupla[2]}\")\n",
    "\n",
    "teste = \"warslison\"\n",
    "teste[0] = \"z\""
   ]
  },
  {
   "cell_type": "code",
   "execution_count": null,
   "id": "fc833dec-ee0e-4dc6-8317-9734cb04553c",
   "metadata": {},
   "outputs": [],
   "source": [
    "par = (10, 20)\n",
    "a, b = par\n",
    " \n",
    "print(f\"Antes da troca: a = {a}, b = {b}\")\n",
    " \n",
    "a, b = b, a\n",
    "print(f\"Depois da troca: a = {a}, b = {b}\")\n",
    "\n",
    "\n",
    "def soma(numero1, numero2):\n",
    "    print(f\"o numero1: {numero1} e o numero2 é {numero2}.\")\n",
    "    return numero1 + numero2\n",
    "\n",
    "resultado_soma = soma(*par)\n",
    "print(resultado_soma)\n",
    "\n",
    "\n",
    "par_dict = {\"numero2\":15,\"numero1\":20}\n",
    "resultado_soma2 = soma(**par_dict)\n",
    "print(resultado_soma2)"
   ]
  },
  {
   "cell_type": "code",
   "execution_count": null,
   "id": "1b8f4827-40ee-4d61-ac17-3604d15e59b4",
   "metadata": {},
   "outputs": [],
   "source": [
    "# 13: Exiba a lista de quadrados entre um intervalo de 1 a 10 desde que seja par\n",
    "numeros = [i*i for i in range(1,11) if i%2 == 0]\n",
    "print(numeros)"
   ]
  },
  {
   "cell_type": "code",
   "execution_count": null,
   "id": "c3ff704a-3950-447a-b2b0-18a74ad0f17d",
   "metadata": {},
   "outputs": [],
   "source": [
    "# 12: Exiba o quadrado entre um intervalo de 1 a 10\n",
    "\n",
    "numeros = [i*i for i in range(1, 11)]\n",
    "print(numeros)"
   ]
  },
  {
   "cell_type": "code",
   "execution_count": null,
   "id": "03cf7a0b-9cd4-487b-8187-994f15c524e7",
   "metadata": {},
   "outputs": [],
   "source": [
    "# 11: Crie uma lista com os números de 1 a 100 (int), utilizando um for de uma única linha\n",
    "numeros = [i for i in range(1, 101)]\n",
    "print(numeros)"
   ]
  },
  {
   "cell_type": "code",
   "execution_count": null,
   "id": "614b5dd1-dff7-4400-a307-7cf6860069b8",
   "metadata": {},
   "outputs": [],
   "source": [
    "# 10. Crie um programa que aceita uma entrada do usuário e insere em uma lista se o valor não existir\n",
    "my_list = [1, 2, 3, 4, 5]\n",
    "user_input = int(input(\"Dgite um valor: \"))\n",
    "if user_input not in my_list:\n",
    "    my_list.append(user_input)\n",
    "print(my_list)"
   ]
  },
  {
   "cell_type": "code",
   "execution_count": null,
   "id": "62594e62-1a03-4875-90f4-6e499a066acb",
   "metadata": {},
   "outputs": [],
   "source": [
    "# 9. Faça um programa que percorre um dicionário e imprime as chaves e valores\n",
    "my_dict = {\"name\": \"Alice\", \"age\": 25, \"city\": \"New York\"}\n",
    "for key, value in my_dict.items():\n",
    "    print(key, value)"
   ]
  },
  {
   "cell_type": "code",
   "execution_count": null,
   "id": "ef0c132e-5d7c-46cf-adc5-0be5500c0388",
   "metadata": {},
   "outputs": [],
   "source": [
    "# 8. Adicione um novo par chave-valor em um dicionário\n",
    "my_dict = {\"name\": \"Alice\", \"age\": 25, \"city\": \"New York\"}\n",
    "my_dict[\"job\"] = \"Engineer\"\n",
    "print(my_dict)"
   ]
  },
  {
   "cell_type": "code",
   "execution_count": null,
   "id": "2312f511-4b47-41cf-a418-d99f1d7a0cf4",
   "metadata": {},
   "outputs": [],
   "source": [
    "# 7. Acesse o valor de uma chave em um dicionário\n",
    "my_dict = {\"name\": \"Alice\", \"age\": 25, \"city\": \"New York\"}\n",
    "print(my_dict[\"age\"])"
   ]
  },
  {
   "cell_type": "code",
   "execution_count": null,
   "id": "7de045b5-6007-49a8-9824-d7d8e6f901ad",
   "metadata": {},
   "outputs": [],
   "source": [
    "# 6. Crie um dicionário com pelo menos três pares chave-valor\n",
    "my_dict = {\"name\": \"Alice\", \"age\": 25, \"city\": \"New York\"}\n",
    "print(my_dict)"
   ]
  },
  {
   "cell_type": "code",
   "execution_count": null,
   "id": "79586a5e-dde7-40a1-8f49-f67d88689138",
   "metadata": {},
   "outputs": [],
   "source": [
    "# 5. Modifique um item de uma lista utilizando índice\n",
    "my_list = [1, 2, 3, 4, 5]\n",
    "my_list[2] = 10\n",
    "print(my_list)"
   ]
  },
  {
   "cell_type": "code",
   "execution_count": null,
   "id": "81d1c4bd-02d8-45ce-a222-f1945142933c",
   "metadata": {},
   "outputs": [],
   "source": [
    "# 4. Crie uma tupla com 3 elementos e imprima\n",
    "my_tuple = (1, 2, 3)\n",
    "print(my_tuple)\n",
    "\n",
    "import random\n",
    "\n",
    "valores = ['🍒', '🍇', '🍉', '7️⃣']\n",
    "\n",
    "def play():\n",
    "    while True:\n",
    "        decisao = input('Deseja jogar? [Y or N]: ').strip().upper()\n",
    "        \n",
    "        if decisao == 'Y':\n",
    "            # Sorteando os valores para a rodada\n",
    "            randomico = random.choices(valores, k=3)\n",
    "            print(f\"{randomico[0]} | {randomico[1]} | {randomico[2]}\")\n",
    "            \n",
    "            if randomico[0] == '7️⃣' and randomico[1] == '7️⃣' and randomico[2] == '7️⃣':\n",
    "                print(\"Ganhou\")\n",
    "            else:\n",
    "                print(\"Não ganhou\")\n",
    "        \n",
    "        elif decisao == 'N':\n",
    "            print(\"Obrigado por jogar!\")\n",
    "            break  # Sai do loop quando o usuário escolhe 'N'\n",
    "        \n",
    "        else:\n",
    "            print(\"Resposta inválida! Digite 'Y' para sim ou 'N' para não.\")\n",
    "\n",
    "play()"
   ]
  }
 ],
 "metadata": {
  "language_info": {
   "name": "python"
  }
 },
 "nbformat": 4,
 "nbformat_minor": 5
}
